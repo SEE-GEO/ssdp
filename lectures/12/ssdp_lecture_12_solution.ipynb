{
 "cells": [
  {
   "cell_type": "code",
   "execution_count": 1,
   "metadata": {},
   "outputs": [],
   "source": [
    "%matplotlib inline\n",
    "\n",
    "import numpy as np\n",
    "import matplotlib.pyplot as plt"
   ]
  },
  {
   "cell_type": "markdown",
   "metadata": {},
   "source": [
    "# 1) Solving the heat equation\n",
    "\n",
    "Complete the ``step(...)`` function below, so that it computes a time step of the finite-difference heat equation solver: \n",
    "\n",
    "\n",
    "  \\begin{align}\n",
    "  U^{t+1}_{i,j}   = U^t_{i, j} + \\Delta t \\alpha \\left (\n",
    "   \\frac{U^{t}_{i,j+1} - 2 U^t_{i, j} + U^t_{i,j-1}}{\\Delta x^2}\n",
    "   + \\frac{U^{t}_{i+1,j} - 2 U^t_{i, j} + U^t_{i-1,j}}{\\Delta y^2}\n",
    "  \\right )\n",
    "  \\end{align}\n",
    "\n",
    "Use explicit loops to iterate over the elements in $U$. Assume a homogeneous grid size $\\Delta x = \\Delta y = 1.0$ and a time step of $0.1$."
   ]
  },
  {
   "cell_type": "code",
   "execution_count": 2,
   "metadata": {},
   "outputs": [],
   "source": [
    "def initial_state(size):\n",
    "    \"\"\"\n",
    "    Return: numpy.ndarray containing the heat distribution at time t = 0.\n",
    "    \"\"\"\n",
    "    u = np.zeros((size, size))\n",
    "    n = int(0.05 * size)\n",
    "    u[size // 4 : 3 * size // 4 + 1, size // 2 - n : size // 2 + n + 1] = 1.0\n",
    "    u[size // 2 - n : size // 2 + n + 1, size // 4 : 3 * size // 4 + 1] = 1.0\n",
    "    return u\n"
   ]
  },
  {
   "cell_type": "code",
   "execution_count": 3,
   "metadata": {},
   "outputs": [],
   "source": [
    "def step(u):\n",
    "    \"\"\"\n",
    "    Perform a solver step of the heat equation.\n",
    "    \n",
    "    Args:\n",
    "        u: n x n numpy.ndarray containing the heat distribution at time t.\n",
    "        \n",
    "    Return:\n",
    "        n x n numpy.ndarray containing the heat distribution at time t + 0.1.\n",
    "    \n",
    "    \"\"\"\n",
    "    n, _ = u.shape\n",
    "    # Compute laplacian\n",
    "    l = np.zeros((n, n))\n",
    "    for i in range(1, n-1):\n",
    "        for j in range(1, n-1):\n",
    "            down = u[i - 1, j]\n",
    "            up = u[i + 1, j]\n",
    "            left = u[i, j - 1]\n",
    "            right = u[i, j + 1]\n",
    "            center = u[i, j]\n",
    "            dudy2 = up + down - 2.0 * center\n",
    "            dydx2 = left + right - 2.0 * center\n",
    "            l[i, j] = dudy2 + dydx2\n",
    "\n",
    "    # Propagate forward\n",
    "    u_next = np.zeros((n ,n))\n",
    "    for i in range(0, n):\n",
    "        for j in range(0, n):\n",
    "            u_next[i, j] = u[i, j] + 0.1 * l[i, j]\n",
    "\n",
    "    return u_next "
   ]
  },
  {
   "cell_type": "code",
   "execution_count": 4,
   "metadata": {},
   "outputs": [],
   "source": [
    "def solve_heat_equation(size, n_steps):\n",
    "    \"\"\"\n",
    "    Run heat equation solve for given number of steps.\n",
    "    \n",
    "    Args:\n",
    "        size: Side-length of the domain.\n",
    "        n_steps: The number of solver steps to perform.\n",
    "        \n",
    "    Return:\n",
    "        Array containing the solution after n_steps time steps.\n",
    "    \"\"\"\n",
    "    u = initial_state(size) \n",
    "    for i in range(n_steps):\n",
    "        u = step(u)\n",
    "    return u"
   ]
  },
  {
   "cell_type": "code",
   "execution_count": 5,
   "metadata": {},
   "outputs": [
    {
     "name": "stdout",
     "output_type": "stream",
     "text": [
      "4.94 s ± 161 ms per loop (mean ± std. dev. of 7 runs, 1 loop each)\n"
     ]
    }
   ],
   "source": [
    "%timeit u = solve_heat_equation(128, 100)"
   ]
  },
  {
   "cell_type": "code",
   "execution_count": 7,
   "metadata": {},
   "outputs": [],
   "source": [
    "u = solve_heat_equation(128, 100)"
   ]
  },
  {
   "cell_type": "code",
   "execution_count": 8,
   "metadata": {
    "scrolled": true
   },
   "outputs": [
    {
     "data": {
      "text/plain": [
       "Text(0.0, 1.0, '(b) $t = 10$')"
      ]
     },
     "execution_count": 8,
     "metadata": {},
     "output_type": "execute_result"
    },
    {
     "data": {
      "image/png": "[encoded data removed]",
      "text/plain": [
       "<Figure size 576x288 with 2 Axes>"
      ]
     },
     "metadata": {
      "needs_background": "light"
     },
     "output_type": "display_data"
    }
   ],
   "source": [
    "from matplotlib.colors import Normalize\n",
    "u0 = initial_state(128)\n",
    "f, axs = plt.subplots(1, 2, figsize=(8, 4))\n",
    "norm = Normalize(0, 1)\n",
    "axs[0].imshow(u0, norm=norm)\n",
    "axs[0].set_title(\"(a) $t = 0$\", loc=\"left\")\n",
    "axs[1].imshow(u, norm=norm)\n",
    "axs[1].set_title(\"(b) $t = 10$\", loc=\"left\")"
   ]
  },
  {
   "cell_type": "markdown",
   "metadata": {},
   "source": [
    "# 2) Using numpy to solve the heat equation\n",
    "\n",
    "Complete the ``step_numpy`` function below so that is also computes a solver step for the heat equation, but use only numpy  array operations."
   ]
  },
  {
   "cell_type": "code",
   "execution_count": 10,
   "metadata": {},
   "outputs": [],
   "source": [
    "def step_numpy(u):\n",
    "    \"\"\"\n",
    "    Perform a solver step of the heat equation.\n",
    "    \n",
    "    Args:\n",
    "        u: n x n numpy.ndarray containing the heat distribution at time t.\n",
    "        \n",
    "    Return:\n",
    "        n x n numpy.ndarray containing the heat distribution at time t + 0.1.\n",
    "    \n",
    "    \"\"\"\n",
    "    n, _ = u.shape\n",
    "    \n",
    "    l = u[:-2, 1:-1] + u[2:, 1:-1]\n",
    "    l += u[1:-1, :-2] + u[1:-1, 2:]\n",
    "    l -= 4.0 * u[1:-1, 1:-1]\n",
    "\n",
    "    u_next = u.copy()\n",
    "    u_next[1:-1, 1:-1] += 0.1 * l\n",
    "\n",
    "    return u_next"
   ]
  },
  {
   "cell_type": "code",
   "execution_count": 11,
   "metadata": {},
   "outputs": [],
   "source": [
    "def solve_heat_equation_numpy(size, n_steps):\n",
    "    u = initial_state(size) \n",
    "    for i in range(n_steps):\n",
    "        u = step_numpy(u)\n",
    "    return u"
   ]
  },
  {
   "cell_type": "code",
   "execution_count": 12,
   "metadata": {},
   "outputs": [
    {
     "name": "stdout",
     "output_type": "stream",
     "text": [
      "16.8 ms ± 377 µs per loop (mean ± std. dev. of 7 runs, 100 loops each)\n"
     ]
    }
   ],
   "source": [
    "%timeit u = solve_heat_equation_numpy(128, 100)"
   ]
  },
  {
   "cell_type": "code",
   "execution_count": null,
   "metadata": {},
   "outputs": [],
   "source": [
    "u = solve_heat_equation(128, 100)"
   ]
  },
  {
   "cell_type": "code",
   "execution_count": 13,
   "metadata": {},
   "outputs": [
    {
     "data": {
      "text/plain": [
       "Text(0.0, 1.0, '(b) $t = 10$')"
      ]
     },
     "execution_count": 13,
     "metadata": {},
     "output_type": "execute_result"
    },
    {
     "data": {
      "image/png": "[encoded data removed]",
      "text/plain": [
       "<Figure size 576x288 with 2 Axes>"
      ]
     },
     "metadata": {
      "needs_background": "light"
     },
     "output_type": "display_data"
    }
   ],
   "source": [
    "from matplotlib.colors import Normalize\n",
    "u0 = initial_state(128)\n",
    "f, axs = plt.subplots(1, 2, figsize=(8, 4))\n",
    "norm = Normalize(0, 1)\n",
    "axs[0].imshow(u0, norm=norm)\n",
    "axs[0].set_title(\"(a) $t = 0$\", loc=\"left\")\n",
    "axs[1].imshow(u, norm=norm)\n",
    "axs[1].set_title(\"(b) $t = 10$\", loc=\"left\")"
   ]
  },
  {
   "cell_type": "markdown",
   "metadata": {},
   "source": [
    "## 3) Processes versus threads\n",
    "\n",
    "Use the ``concurrent.futures`` module to execute the ``heavy_calculation`` function 10 times with ``n = 1_000_000`` concurrently. Compare and explain the performance of ``ThreadPoolExecutor`` and ``ProcessPoolExecutor``.\n",
    "\n",
    "**Hint:** For compute-limited tasks choosing the number of workers identical to the number of compute cores is generally a good idea. You can use ``os.cpu_count`` to determine the number of cores on your computer."
   ]
  },
  {
   "cell_type": "code",
   "execution_count": 15,
   "metadata": {},
   "outputs": [],
   "source": [
    "import math\n",
    "\n",
    "def heavy_calculation(n):\n",
    "    result = 0\n",
    "    for i in range(n):\n",
    "        result += math.sqrt(n)\n",
    "    return result"
   ]
  },
  {
   "cell_type": "code",
   "execution_count": 16,
   "metadata": {},
   "outputs": [],
   "source": [
    "import os\n",
    "from concurrent.futures import ThreadPoolExecutor, ProcessPoolExecutor\n",
    "n = 1_000_000\n",
    "\n",
    "def run_heavy_calculations_threads():\n",
    "    executor = ThreadPoolExecutor(max_workers=os.cpu_count())\n",
    "    results = [executor.submit(heavy_calculation, n) for i in range(10)]\n",
    "    return [result.result() for result in results]\n",
    "    \n",
    "def run_heavy_calculations_processes():\n",
    "    executor = ProcessPoolExecutor(max_workers=os.cpu_count())\n",
    "    results = [executor.submit(heavy_calculation, n) for i in range(10)]\n",
    "    return [result.result() for result in results]"
   ]
  },
  {
   "cell_type": "code",
   "execution_count": 17,
   "metadata": {},
   "outputs": [
    {
     "name": "stdout",
     "output_type": "stream",
     "text": [
      "CPU times: user 15.4 ms, sys: 13.2 ms, total: 28.6 ms\n",
      "Wall time: 875 ms\n"
     ]
    }
   ],
   "source": [
    "%time r = run_heavy_calculations_processes()"
   ]
  },
  {
   "cell_type": "code",
   "execution_count": 18,
   "metadata": {},
   "outputs": [
    {
     "name": "stdout",
     "output_type": "stream",
     "text": [
      "CPU times: user 1.63 s, sys: 3.4 ms, total: 1.63 s\n",
      "Wall time: 1.73 s\n"
     ]
    }
   ],
   "source": [
    "%time r = run_heavy_calculations_threads()"
   ]
  },
  {
   "cell_type": "markdown",
   "metadata": {},
   "source": [
    "## 4) Parallel heat equation using numba\n",
    "\n",
    "Use the numba package to speed up the first version of the step function. Define a serial and a parallel version. Compare the performance of the serial version to the parallel version for different grid sizes. How large does the grid have to be for the parallel version to be faster?"
   ]
  },
  {
   "cell_type": "code",
   "execution_count": null,
   "metadata": {},
   "outputs": [],
   "source": [
    "def solve_heat_equation_numba(size, n_steps):\n",
    "    u = initial_state(size) \n",
    "    for i in range(n_steps):\n",
    "        u = step_serial(u)\n",
    "    return u\n",
    "\n",
    "def solve_heat_equation_numba_parallel(size, n_steps):\n",
    "    u = initial_state(size) \n",
    "    for i in range(n_steps):\n",
    "        u = step_parallel(u)\n",
    "    return u"
   ]
  },
  {
   "cell_type": "code",
   "execution_count": null,
   "metadata": {},
   "outputs": [],
   "source": [
    "def step_serial(u):\n",
    "    \"\"\"\n",
    "    Perform a solver step of the heat equation.\n",
    "    \n",
    "    Args:\n",
    "        u: n x n numpy.ndarray containing the heat distribution at time t.\n",
    "        \n",
    "    Return:\n",
    "        n x n numpy.ndarray containing the heat distribution at time t + 0.1.\n",
    "    \n",
    "    \"\"\"\n",
    "    pass"
   ]
  },
  {
   "cell_type": "code",
   "execution_count": null,
   "metadata": {},
   "outputs": [],
   "source": [
    "def step_parallel(u):\n",
    "    \"\"\"\n",
    "    Perform a solver step of the heat equation.\n",
    "    \n",
    "    Args:\n",
    "        u: n x n numpy.ndarray containing the heat distribution at time t.\n",
    "        \n",
    "    Return:\n",
    "        n x n numpy.ndarray containing the heat distribution at time t + 0.1.\n",
    "    \n",
    "    \"\"\"\n",
    "    pass"
   ]
  },
  {
   "cell_type": "code",
   "execution_count": null,
   "metadata": {},
   "outputs": [],
   "source": [
    "%timeit u = solve_heat_equation_numba(128, 100)"
   ]
  },
  {
   "cell_type": "code",
   "execution_count": null,
   "metadata": {},
   "outputs": [],
   "source": [
    "%timeit u = solve_heat_equation_numba_parallel(128, 100)"
   ]
  },
  {
   "cell_type": "code",
   "execution_count": null,
   "metadata": {},
   "outputs": [],
   "source": [
    "%timeit u = solve_heat_equation_numba(2048, 100)"
   ]
  },
  {
   "cell_type": "code",
   "execution_count": null,
   "metadata": {},
   "outputs": [],
   "source": [
    "%timeit u = solve_heat_equation_numba_parallel(2048, 100)"
   ]
  }
 ],
 "metadata": {
  "kernelspec": {
   "display_name": "Python 3",
   "language": "python",
   "name": "python3"
  },
  "language_info": {
   "codemirror_mode": {
    "name": "ipython",
    "version": 3
   },
   "file_extension": ".py",
   "mimetype": "text/x-python",
   "name": "python",
   "nbconvert_exporter": "python",
   "pygments_lexer": "ipython3",
   "version": "3.7.4"
  }
 },
 "nbformat": 4,
 "nbformat_minor": 4
}
