{
 "cells": [
  {
   "cell_type": "markdown",
   "metadata": {},
   "source": [
    "# Requirements\n",
    "\n",
    "In this exercise we will make use of the ``memory_profiler`` package."
   ]
  },
  {
   "cell_type": "code",
   "execution_count": null,
   "metadata": {},
   "outputs": [],
   "source": [
    "%pip install memory_profiler"
   ]
  },
  {
   "cell_type": "code",
   "execution_count": null,
   "metadata": {},
   "outputs": [],
   "source": [
    "import numpy as np\n",
    "import matplotlib.pyplot as plt"
   ]
  },
  {
   "cell_type": "markdown",
   "metadata": {},
   "source": [
    "# Exercise 1\n",
    "\n",
    "Implement the random walk class below which allows a user to iterate over the steps in a 1-dimensional random walk, i.e. the step position $x_n$ at timestep $n$ is given by:\n",
    "\n",
    "\\begin{align}\n",
    "x_n = x_{n - 1} + \\Delta x,\n",
    "\\end{align}\n",
    "\n",
    "where $\\Delta x$ is a sample from a normal distribution $\\mathcal{N}(0, 1)$ with mean $0$ and standard deviation $1$.\n",
    "\n",
    "\n",
    "## a)"
   ]
  },
  {
   "cell_type": "code",
   "execution_count": null,
   "metadata": {},
   "outputs": [],
   "source": [
    "import random\n",
    "from collections.abc import Iterable, Iterator\n",
    "\n",
    "class RandomWalkIterator(Iterator):\n",
    "    \"\"\"\n",
    "    Iterator for steps in a random walk.\n",
    "    \"\"\"\n",
    "    def __init__(self, walk):\n",
    "        self.walk = walk\n",
    "        self.index = 0\n",
    "\n",
    "    def __next__(self):\n",
    "        if self.index < self.walk.n_steps:\n",
    "            item = self.walk.steps[self.index]\n",
    "            self.index += 1\n",
    "            return item\n",
    "        raise StopIteration()\n",
    "\n",
    "    def __iter__(self):\n",
    "        return self\n",
    "\n",
    "class RandomWalkIterable(Iterable):\n",
    "    \"\"\"\n",
    "    A 1-dimensional random walk with unit step size.\n",
    "    \"\"\"\n",
    "    def __init__(self, n_steps = 1000):\n",
    "        \"\"\"\n",
    "        Args:\n",
    "            n_steps: The number of random walk steps to perform.\n",
    "        \"\"\"\n",
    "        pos = 0.0\n",
    "        self.n_steps = n_steps\n",
    "        self.steps = []\n",
    "        for i in range(n_steps):\n",
    "            pos += random.gauss(0, 1)\n",
    "            self.steps.append(pos)\n",
    "\n",
    "    def __iter__(self):\n",
    "        return RandomWalkIterator(self)"
   ]
  },
  {
   "cell_type": "markdown",
   "metadata": {},
   "source": [
    "Then, use the code below to profile the memory consumption of the calculating the standard deviation of the random walk. Discuss the form of the memory profile."
   ]
  },
  {
   "cell_type": "code",
   "execution_count": null,
   "metadata": {},
   "outputs": [],
   "source": [
    "def calculate_std(random_walk):\n",
    "    \"\"\"\n",
    "    Calculate standard deviation of a random walk.\n",
    "\n",
    "    Args:\n",
    "        random_walk(``Iterable``): An iterable over the steps of\n",
    "             a random walk.\n",
    "    \"\"\"\n",
    "    n = 0\n",
    "    step_squared_sum = 0.0\n",
    "    step_sum = 0.0\n",
    "    for step in random_walk:\n",
    "        step_sum += step\n",
    "        step_squared_sum += step * step\n",
    "        n += 1\n",
    "    return (step_squared_sum - step_sum) / n\n"
   ]
  },
  {
   "cell_type": "code",
   "execution_count": null,
   "metadata": {},
   "outputs": [],
   "source": [
    "def calculate_random_walk_iterator():\n",
    "    return calculate_std(RandomWalkIterable(10_000_000))\n",
    "\n",
    "from memory_profiler import memory_usage\n",
    "memory_iterator = memory_usage(calculate_random_walk_iterator)"
   ]
  },
  {
   "cell_type": "code",
   "execution_count": null,
   "metadata": {},
   "outputs": [],
   "source": [
    "time = 0.1 * np.arange(len(memory_iterator))\n",
    "plt.plot(time, memory_iterator)\n",
    "plt.xlabel(\"Time [s]\")\n",
    "plt.ylabel(\"Memory used [MB]\")"
   ]
  },
  {
   "cell_type": "markdown",
   "metadata": {},
   "source": [
    "## b)\n",
    "\n",
    "Complete the code below to implement a generator version of the random walk code. Remember that you can use ``yield`` to simplify your code."
   ]
  },
  {
   "cell_type": "code",
   "execution_count": null,
   "metadata": {},
   "outputs": [],
   "source": [
    "class RandomWalkGenerator:\n",
    "    def __init__(self, n_steps = 1000):\n",
    "        self.pos = 0.0\n",
    "        self.step = 0\n",
    "        self.n_steps = n_steps\n",
    "\n",
    "    def __iter__(self):\n",
    "        for i in range(self.n_steps - 1):\n",
    "            current_pos = self.pos\n",
    "            self.pos += random.gauss(0, 1)\n",
    "            yield current_pos\n",
    "        return self.pos"
   ]
  },
  {
   "cell_type": "markdown",
   "metadata": {},
   "source": [
    "Then, use the code below to compar the memory profiles of the two implementations. How do they differ?"
   ]
  },
  {
   "cell_type": "code",
   "execution_count": null,
   "metadata": {},
   "outputs": [],
   "source": [
    "def calculate_random_walk_generator():\n",
    "    return calculate_std(RandomWalkGenerator(10_000_000))"
   ]
  },
  {
   "cell_type": "code",
   "execution_count": null,
   "metadata": {},
   "outputs": [],
   "source": [
    "memory_generator = memory_usage(calculate_random_walk_generator)"
   ]
  },
  {
   "cell_type": "code",
   "execution_count": null,
   "metadata": {},
   "outputs": [],
   "source": [
    "time_iterator = 0.1 * np.arange(len(memory_iterator))\n",
    "time_generator = 0.1 * np.arange(len(memory_generator))\n",
    "plt.plot(time_iterator, memory_iterator, label=\"Iterator\")\n",
    "plt.plot(time_generator, memory_generator, label=\"Generator\")\n",
    "plt.xlabel(\"Time [s]\")\n",
    "plt.ylabel(\"Memory used [MB]\")\n",
    "plt.legend()\n",
    "plt.savefig(\"figures/memory_used.pdf\")"
   ]
  },
  {
   "cell_type": "markdown",
   "metadata": {},
   "source": [
    "# Exercise 2\n",
    "\n",
    "Complete the two functions to filter positive steps from the random walk. For the first one use a =for= loop and\n",
    "for the second a list comprehension."
   ]
  },
  {
   "cell_type": "code",
   "execution_count": null,
   "metadata": {},
   "outputs": [],
   "source": [
    "def filter_positive_loop(random_walk):\n",
    "    positive_steps = []\n",
    "    for step in random_walk:\n",
    "        positive_steps.append(step)\n",
    "    return positive_steps"
   ]
  },
  {
   "cell_type": "code",
   "execution_count": null,
   "metadata": {},
   "outputs": [],
   "source": [
    "def filter_positive_comprehension(random_walk):\n",
    "    return [r for r in random_walk if r > 0.0]\n"
   ]
  },
  {
   "cell_type": "code",
   "execution_count": null,
   "metadata": {},
   "outputs": [],
   "source": [
    "random_walk = RandomWalkIterable(1_000_000)"
   ]
  },
  {
   "cell_type": "code",
   "execution_count": null,
   "metadata": {},
   "outputs": [],
   "source": [
    "%timeit filter_positive_loop(random_walk)"
   ]
  },
  {
   "cell_type": "code",
   "execution_count": null,
   "metadata": {},
   "outputs": [],
   "source": [
    "%timeit filter_positive_loop(random_walk.steps)"
   ]
  },
  {
   "cell_type": "code",
   "execution_count": null,
   "metadata": {},
   "outputs": [],
   "source": [
    "%timeit filter_positive_comprehension(random_walk)"
   ]
  },
  {
   "cell_type": "code",
   "execution_count": null,
   "metadata": {},
   "outputs": [],
   "source": [
    "%timeit filter_positive_comprehension(random_walk.steps)"
   ]
  },
  {
   "cell_type": "markdown",
   "metadata": {},
   "source": [
    "# Exercise 3\n",
    "\n",
    "Write a decorator ``@maximum_memory`` that prints out the maximum amount of memory required by during execution of a function.\n",
    "\n",
    "**Note:** You can forward arugments to the ``memory_usage`` function by passing a tuple ``(f, args, kwargs)``\n",
    "    containing the function ``f`` to call, the list of positional arguments ``args`` and the dictionary\n",
    "    of keyword args ``kwargs``."
   ]
  },
  {
   "cell_type": "code",
   "execution_count": null,
   "metadata": {},
   "outputs": [],
   "source": [
    "def maximum_memory(f):\n",
    "    def wrapper(*args, **kwargs):\n",
    "        memory = memory_usage((f, args, kwargs))\n",
    "        print(f\"Maximum memory: {max(memory)}\")\n",
    "    return wrapper"
   ]
  },
  {
   "cell_type": "code",
   "execution_count": null,
   "metadata": {},
   "outputs": [],
   "source": [
    "@maximum_memory\n",
    "def calculate_random_walk_decorated(n_steps):\n",
    "    calculate_std(RandomWalkIterable(n_steps))"
   ]
  },
  {
   "cell_type": "code",
   "execution_count": null,
   "metadata": {},
   "outputs": [],
   "source": [
    "calculate_random_walk_decorated(10000000)"
   ]
  },
  {
   "cell_type": "markdown",
   "metadata": {},
   "source": [
    "# Exercise 4\n",
    "\n",
    "Apply the flyweight pattern to reduce the memory footprint of the ``RandomWalkIterableClass``."
   ]
  },
  {
   "cell_type": "code",
   "execution_count": null,
   "metadata": {},
   "outputs": [],
   "source": [
    "import random\n",
    "from collections.abc import Iterable, Iterator\n",
    "\n",
    "class RandomWalkIterator(Iterator):\n",
    "    \"\"\"\n",
    "    Iterator for steps in a random walk.\n",
    "    \"\"\"\n",
    "    def __init__(self, walk):\n",
    "        self.walk = walk\n",
    "        self.index = 0\n",
    "\n",
    "    def __next__(self):\n",
    "        if self.index < self.walk.n_steps:\n",
    "            item = self.walk.steps[self.index]\n",
    "            self.index += 1\n",
    "            return item\n",
    "        raise StopIteration()\n",
    "\n",
    "    def __iter__(self):\n",
    "        return self\n",
    "\n",
    "class RandomWalkIterable(Iterable):\n",
    "    \"\"\"\n",
    "    A 1-dimensional random walk with unit step size.\n",
    "    \"\"\"\n",
    "    _steps = []\n",
    "    _n_steps = 0\n",
    "    def __new__(cls, n_steps):\n",
    "        if (n_steps > cls._n_steps):\n",
    "            cls._steps = cls._calculate_random_walk(n_steps)\n",
    "            cls._n_steps = n_steps\n",
    "        random_walk = super().__new__(cls)\n",
    "        random_walk.n_steps = n_steps\n",
    "        random_walk.steps = cls._steps\n",
    "        return random_walk\n",
    "            \n",
    "    @staticmethod\n",
    "    def _calculate_random_walk(n_steps):\n",
    "        pos = 0.0\n",
    "        steps = []\n",
    "        for i in range(n_steps):\n",
    "            steps.append(pos)\n",
    "            pos += random.gauss(0, 1)\n",
    "        return steps\n",
    "        \n",
    "    \n",
    "    def __init__(self, n_steps = 1000):\n",
    "        pass\n",
    "            \n",
    "        \n",
    "    def __iter__(self):\n",
    "        for i in range(self.n_steps):\n",
    "            yield self.steps[i]"
   ]
  },
  {
   "cell_type": "code",
   "execution_count": null,
   "metadata": {},
   "outputs": [],
   "source": [
    "def calculate_random_walk_flyweight():\n",
    "    return calculate_std(RandomWalkIterable(10_000_000))"
   ]
  },
  {
   "cell_type": "code",
   "execution_count": null,
   "metadata": {},
   "outputs": [],
   "source": [
    "memory_flyweight_1 = memory_usage(calculate_random_walk_flyweight)\n",
    "memory_flyweight_2 = memory_usage(calculate_random_walk_flyweight)"
   ]
  },
  {
   "cell_type": "code",
   "execution_count": null,
   "metadata": {},
   "outputs": [],
   "source": [
    "time_flyweight_1 = 0.1 * np.arange(len(memory_flyweight_1))\n",
    "time_flyweight_2 = 0.1 * np.arange(len(memory_flyweight_2))\n",
    "plt.plot(time_flyweight_1, memory_flyweight_1, label=\"flyweight 1\")\n",
    "plt.plot(time_flyweight_2, memory_flyweight_2, label=\"flyweight 2\")\n",
    "plt.xlabel(\"Time [s]\")\n",
    "plt.ylabel(\"Memory used [MB]\")\n",
    "plt.legend()\n",
    "plt.savefig(\"figures/memory_used_flyweight.pdf\")"
   ]
  },
  {
   "cell_type": "code",
   "execution_count": null,
   "metadata": {},
   "outputs": [],
   "source": []
  }
 ],
 "metadata": {
  "kernelspec": {
   "display_name": "Python 3",
   "language": "python",
   "name": "python3"
  },
  "language_info": {
   "codemirror_mode": {
    "name": "ipython",
    "version": 3
   },
   "file_extension": ".py",
   "mimetype": "text/x-python",
   "name": "python",
   "nbconvert_exporter": "python",
   "pygments_lexer": "ipython3",
   "version": "3.7.4"
  }
 },
 "nbformat": 4,
 "nbformat_minor": 4
}
