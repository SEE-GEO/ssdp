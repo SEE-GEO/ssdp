{
 "cells": [
  {
   "cell_type": "markdown",
   "metadata": {},
   "source": [
    "[![Open In Colab](https://colab.research.google.com/assets/colab-badge.svg)](https://colab.research.google.com/github/see-mof/ssdp/blob/main/lectures/8/ssdp_lecture_8_exercise.ipynb)\n",
    "\n",
    "# Preparations\n",
    "\n",
    "In this exercise we will make use of the ``memory_profiler`` package."
   ]
  },
  {
   "cell_type": "code",
   "execution_count": null,
   "metadata": {},
   "outputs": [],
   "source": [
    "%pip install memory_profiler"
   ]
  },
  {
   "cell_type": "code",
   "execution_count": null,
   "metadata": {},
   "outputs": [],
   "source": [
    "import numpy as np\n",
    "import matplotlib.pyplot as plt"
   ]
  },
  {
   "cell_type": "markdown",
   "metadata": {},
   "source": [
    "# Exercise 1\n",
    "\n",
    "Complete the code below to implement a random walk class, which allows a user to iterate over the steps in a 1-dimensional random walk. Use the following rule the compute the  step position $x_n$ at timestep $n$:\n",
    "\n",
    "\\begin{align}\n",
    "x_n = x_{n - 1} + \\Delta x,\n",
    "\\end{align}\n",
    "\n",
    "with $\\Delta x$ a sample from a normal distribution $\\mathcal{N}(0, 1)$ with mean $0$ and standard deviation $1$ and $x_0 = 0$. To generate a sample from a normal distribution you can use ``random.gauss`` or ``numpy.random.normal``.\n",
    "\n",
    "## a)"
   ]
  },
  {
   "cell_type": "code",
   "execution_count": null,
   "metadata": {},
   "outputs": [],
   "source": [
    "import random\n",
    "from collections.abc import Iterable, Iterator\n",
    "\n",
    "class RandomWalkIterator(Iterator):\n",
    "    \"\"\"\n",
    "    Iterator for steps in a random walk.\n",
    "    \"\"\"\n",
    "    ...\n",
    "\n",
    "class RandomWalkIterable(Iterable):\n",
    "    \"\"\"\n",
    "    A 1-dimensional random walk with unit step size.\n",
    "    \"\"\"\n",
    "    def __init__(self, n_steps = 1000):\n",
    "        \"\"\"\n",
    "        Args:\n",
    "            n_steps: The number of random walk steps to perform.\n",
    "        \"\"\"\n",
    "        pass\n",
    "    ..."
   ]
  },
  {
   "cell_type": "markdown",
   "metadata": {},
   "source": [
    "Then, execute the code below to profile the memory consumption of calculating the standard deviation of the random walk. Discuss the form of the memory profile."
   ]
  },
  {
   "cell_type": "code",
   "execution_count": null,
   "metadata": {},
   "outputs": [],
   "source": [
    "def calculate_std(random_walk):\n",
    "    \"\"\"\n",
    "    Calculate standard deviation of a random walk.\n",
    "\n",
    "    Args:\n",
    "        random_walk(``Iterable``): An iterable over the steps of\n",
    "             a random walk.\n",
    "    \"\"\"\n",
    "    n = 0\n",
    "    step_squared_sum = 0.0\n",
    "    step_sum = 0.0\n",
    "    for step in random_walk:\n",
    "        step_sum += step\n",
    "        step_squared_sum += step * step\n",
    "        n += 1\n",
    "    return (step_squared_sum - step_sum) / n\n"
   ]
  },
  {
   "cell_type": "code",
   "execution_count": null,
   "metadata": {},
   "outputs": [],
   "source": [
    "from memory_profiler import memory_usage\n",
    "\n",
    "# Helper function to execute calculation.\n",
    "def calculate_random_walk_iterator():\n",
    "    return calculate_std(RandomWalkIterable(10_000_000))\n",
    "\n",
    "# memory_usage returns amount of used memory per 0.1 s.\n",
    "memory_iterator = memory_usage(calculate_random_walk_iterator)\n",
    "# Subtract amount of memory occupied before call.\n",
    "memory_iterator = np.array(memory_iterator)\n",
    "memory_iterator -= memory_iterator[0]"
   ]
  },
  {
   "cell_type": "code",
   "execution_count": null,
   "metadata": {},
   "outputs": [],
   "source": [
    "time_iterator = 0.1 * np.arange(len(memory_iterator))\n",
    "plt.plot(time_iterator, memory_iterator)\n",
    "plt.xlabel(\"Time [s]\")\n",
    "plt.ylabel(\"Memory used [MB]\")"
   ]
  },
  {
   "cell_type": "markdown",
   "metadata": {},
   "source": [
    "## b)\n",
    "\n",
    "Complete the code below to implement a generator version of the random walk code. Remember that you can use ``yield`` to simplify your code."
   ]
  },
  {
   "cell_type": "code",
   "execution_count": null,
   "metadata": {},
   "outputs": [],
   "source": [
    "class RandomWalkGenerator:\n",
    "    \"\"\"\n",
    "    A 1-dimensional random walk with unit step size.\n",
    "    \"\"\"\n",
    "    def __init__(self, n_steps = 1000):\n",
    "        \"\"\"\n",
    "        Args:\n",
    "            n_steps: The number of random walk steps to perform.\n",
    "        \"\"\"\n",
    "        pass\n",
    "    ..."
   ]
  },
  {
   "cell_type": "markdown",
   "metadata": {},
   "source": [
    "Then, use the code below to compar the memory profiles of the two implementations. How do they differ?"
   ]
  },
  {
   "cell_type": "code",
   "execution_count": null,
   "metadata": {},
   "outputs": [],
   "source": [
    "def calculate_random_walk_generator():\n",
    "    return calculate_std(RandomWalkGenerator(10_000_000))"
   ]
  },
  {
   "cell_type": "code",
   "execution_count": null,
   "metadata": {},
   "outputs": [],
   "source": [
    "memory_generator = memory_usage(calculate_random_walk_generator)\n",
    "# Subtract amount of memory occupied before call.\n",
    "memory_generator = np.array(memory_generator)\n",
    "memory_generator -= memory_generator[0]"
   ]
  },
  {
   "cell_type": "code",
   "execution_count": null,
   "metadata": {},
   "outputs": [],
   "source": [
    "time_generator = 0.1 * np.arange(len(memory_generator))\n",
    "plt.plot(time_iterator, memory_iterator, label=\"Iterator\")\n",
    "plt.plot(time_generator, memory_generator, label=\"Generator\")\n",
    "plt.xlabel(\"Time [s]\")\n",
    "plt.ylabel(\"Memory used [MB]\")\n",
    "plt.legend()\n",
    "plt.savefig(\"figures/memory_used.pdf\")"
   ]
  },
  {
   "cell_type": "markdown",
   "metadata": {},
   "source": [
    "# Exercise 2\n",
    "\n",
    "Complete the two functions to filter positive steps from the random walk. For the first one use a ``for`` loop and\n",
    "for the second a list comprehension."
   ]
  },
  {
   "cell_type": "code",
   "execution_count": null,
   "metadata": {},
   "outputs": [],
   "source": [
    "def filter_positive_loop(iterable):\n",
    "    \"\"\"\n",
    "    Filter positive values from iterable.\n",
    "    \n",
    "    Args:\n",
    "        iterable: An iterable returning numeric values to\n",
    "             filter.\n",
    "    Return:\n",
    "        List containing only the positive values from the\n",
    "        iterable.\n",
    "    \"\"\"\n",
    "    ..."
   ]
  },
  {
   "cell_type": "code",
   "execution_count": null,
   "metadata": {},
   "outputs": [],
   "source": [
    "def filter_positive_comprehension(random_walk):\n",
    "    \"\"\"\n",
    "    Filter positive values from iterable.\n",
    "    \n",
    "    Args:\n",
    "        iterable: An iterable returning numeric values to\n",
    "             filter.\n",
    "    Return:\n",
    "        List containing only the positive values from the\n",
    "        iterable.\n",
    "    \"\"\"\n",
    "    ...\n"
   ]
  },
  {
   "cell_type": "code",
   "execution_count": null,
   "metadata": {},
   "outputs": [],
   "source": [
    "random_walk = RandomWalkIterable(1_000_000)"
   ]
  },
  {
   "cell_type": "markdown",
   "metadata": {},
   "source": [
    "The code below measures the execution time of the two methods. Each method is invoked in two different ways. Discuss the result."
   ]
  },
  {
   "cell_type": "code",
   "execution_count": null,
   "metadata": {},
   "outputs": [],
   "source": [
    "%timeit filter_positive_loop(random_walk)"
   ]
  },
  {
   "cell_type": "code",
   "execution_count": null,
   "metadata": {},
   "outputs": [],
   "source": [
    "%timeit filter_positive_loop(random_walk.steps)"
   ]
  },
  {
   "cell_type": "code",
   "execution_count": null,
   "metadata": {},
   "outputs": [],
   "source": [
    "%timeit filter_positive_comprehension(random_walk)"
   ]
  },
  {
   "cell_type": "code",
   "execution_count": null,
   "metadata": {},
   "outputs": [],
   "source": [
    "%timeit filter_positive_comprehension(random_walk.steps)"
   ]
  },
  {
   "cell_type": "markdown",
   "metadata": {},
   "source": [
    "# Exercise 3\n",
    "\n",
    "Write a decorator ``@maximum_memory`` that prints out the maximum amount of memory required during the execution of a function.\n",
    "\n",
    "**Note:** You can forward arugments to the ``memory_usage`` function by passing a tuple ``(f, args, kwargs)``\n",
    "    containing the function ``f`` to call, the list of positional arguments ``args`` and the dictionary\n",
    "    of keyword args ``kwargs``."
   ]
  },
  {
   "cell_type": "code",
   "execution_count": null,
   "metadata": {},
   "outputs": [],
   "source": [
    "def maximum_memory(f):\n",
    "    \"\"\"\n",
    "    Function decorator calculating the maximum memory used during\n",
    "    execution of a function.\n",
    "    \n",
    "    Args:\n",
    "         f(``Callable``): The function to decorate.\n",
    "         \n",
    "    Return:\n",
    "         The decorated callable.\n",
    "    \"\"\"\n",
    "    ..."
   ]
  },
  {
   "cell_type": "markdown",
   "metadata": {},
   "source": [
    "If your implementation is correct, the code below should print a value around $\\sim390$ MB."
   ]
  },
  {
   "cell_type": "code",
   "execution_count": null,
   "metadata": {},
   "outputs": [],
   "source": [
    "@maximum_memory\n",
    "def calculate_random_walk_decorated(n_steps):\n",
    "    calculate_std(RandomWalkIterable(n_steps))"
   ]
  },
  {
   "cell_type": "code",
   "execution_count": null,
   "metadata": {},
   "outputs": [],
   "source": [
    "calculate_random_walk_decorated(10000000)"
   ]
  },
  {
   "cell_type": "markdown",
   "metadata": {},
   "source": [
    "# Exercise 4\n",
    "\n",
    "Apply the flyweight pattern to reduce the memory footprint of the ``RandomWalkIterable`` class. This time, use the ``yield`` keyword instead of an explicit iterator class."
   ]
  },
  {
   "cell_type": "code",
   "execution_count": null,
   "metadata": {},
   "outputs": [],
   "source": [
    "import random\n",
    "from collections.abc import Iterable, Iterator\n",
    "\n",
    "class RandomWalkIterable(Iterable):\n",
    "    \"\"\"\n",
    "    A 1-dimensional random walk with unit step size.\n",
    "    \"\"\"\n",
    "    def __init__(self, n_steps = 1000):\n",
    "        \"\"\"\n",
    "        Args:\n",
    "            n_steps: The number of random walk steps to perform.\n",
    "        \"\"\"\n",
    "        pass\n",
    "    ...\n"
   ]
  },
  {
   "cell_type": "markdown",
   "metadata": {},
   "source": [
    "Then use the code below to profile the memory consumption of the calculations. Discuss the results."
   ]
  },
  {
   "cell_type": "code",
   "execution_count": null,
   "metadata": {},
   "outputs": [],
   "source": [
    "def calculate_random_walk_flyweight():\n",
    "    return calculate_std(RandomWalkIterable(10_000_000))"
   ]
  },
  {
   "cell_type": "code",
   "execution_count": null,
   "metadata": {},
   "outputs": [],
   "source": [
    "memory_flyweight_1 = np.array(memory_usage(calculate_random_walk_flyweight))\n",
    "memory_flyweight_1 -= memory_flyweight_1[0]\n",
    "memory_flyweight_2 = np.array(memory_usage(calculate_random_walk_flyweight))\n",
    "memory_flyweight_2 -= memory_flyweight_2[0]"
   ]
  },
  {
   "cell_type": "code",
   "execution_count": null,
   "metadata": {},
   "outputs": [],
   "source": [
    "time_flyweight_1 = 0.1 * np.arange(len(memory_flyweight_1))\n",
    "time_flyweight_2 = 0.1 * np.arange(len(memory_flyweight_2))\n",
    "plt.plot(time_flyweight_1, memory_flyweight_1, label=\"flyweight 1\")\n",
    "plt.plot(time_flyweight_2, memory_flyweight_2, label=\"flyweight 2\")\n",
    "plt.xlabel(\"Time [s]\")\n",
    "plt.ylabel(\"Memory used [MB]\")\n",
    "plt.legend()\n",
    "plt.savefig(\"figures/memory_used_flyweight.pdf\")"
   ]
  }
 ],
 "metadata": {
  "kernelspec": {
   "display_name": "Python 3",
   "language": "python",
   "name": "python3"
  },
  "language_info": {
   "codemirror_mode": {
    "name": "ipython",
    "version": 3
   },
   "file_extension": ".py",
   "mimetype": "text/x-python",
   "name": "python",
   "nbconvert_exporter": "python",
   "pygments_lexer": "ipython3",
   "version": "3.7.4"
  }
 },
 "nbformat": 4,
 "nbformat_minor": 4
}
