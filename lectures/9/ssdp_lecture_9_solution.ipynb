{
 "cells": [
  {
   "cell_type": "markdown",
   "metadata": {},
   "source": [
    "# Exercise 1: Problems with mutable default values\n",
    "\n",
    "Have a look a the ``print_something`` function defined below. What will it print when you execute it?"
   ]
  },
  {
   "cell_type": "code",
   "execution_count": 1,
   "metadata": {},
   "outputs": [],
   "source": [
    "def print_something(something, other_things=[]):\n",
    "    other_things.insert(0, something)\n",
    "    for thing in other_things:\n",
    "        print(thing)\n",
    "\n",
    "print_something(\"something\")"
   ]
  },
  {
   "cell_type": "markdown",
   "metadata": {},
   "source": [
    "Now, execute the function againg, what will happen now? Why is this happening? Discuss!"
   ]
  },
  {
   "cell_type": "markdown",
   "metadata": {},
   "source": [
    "Finally, fix the function so that you can still provide a list of other things to print as keyword arguments but so that the default value is not changed between separate invocations.\n",
    "\n",
    "\n"
   ]
  },
  {
   "cell_type": "code",
   "execution_count": 2,
   "metadata": {},
   "outputs": [],
   "source": [
    "def print_something(something, other_things=None):\n",
    "    if not other_things:\n",
    "        other_things = []\n",
    "    other_things.insert(0, something)\n",
    "    for thing in other_things:\n",
    "        print(thing)\n",
    "\n",
    "print_something(\"something\", [\"something complete\"])"
   ]
  },
  {
   "cell_type": "markdown",
   "metadata": {},
   "source": [
    "# Exercise 2: Time complexity of container operations\n",
    "\n",
    "In this exercise, we will be doing some simple experiments on the performance of the basic Python data containers.\n",
    "\n",
    "## (a)\n",
    "\n",
    "Complete the functions in the following 4 code cells to create a unified interface to perform operations on the different types of containers. Remember that you can use ``help(list)``, ``help(dict)``, or ``help(set)`` to figure out how to implement each function."
   ]
  },
  {
   "cell_type": "code",
   "execution_count": 3,
   "metadata": {},
   "outputs": [],
   "source": [
    "def create_list(n):\n",
    "    \"\"\" Create a list containing integer elements 0 to n - 1. \"\"\"\n",
    "    result = []\n",
    "    for i in range(n):\n",
    "        result.append(i)\n",
    "    return result\n",
    "\n",
    "def create_dict(n):\n",
    "    \"\"\" Create a dictionary mapping the numbers 0 to n - 1 to themselves.\"\"\"\n",
    "    result = {}\n",
    "    for i in range(n):\n",
    "        result[i] = i\n",
    "    return result\n",
    "\n",
    "def create_set(n):\n",
    "    \"\"\" Create a set containing the numbers 0 to n - 1.\"\"\"\n",
    "    result = set()\n",
    "    for i in range(n):\n",
    "        result.add(i)\n",
    "    return result"
   ]
  },
  {
   "cell_type": "code",
   "execution_count": 4,
   "metadata": {},
   "outputs": [],
   "source": [
    "def insert_beginning_list(l, e):\n",
    "    \"\"\"Insert element e into list l at position 0.\"\"\"\n",
    "    l.insert(0, e)\n",
    "    \n",
    "def insert_beginning_dict(d, e):\n",
    "    \"\"\"Insert element e into dict d.\"\"\"\n",
    "    d[e] = e\n",
    "    \n",
    "def insert_beginning_set(s, e):\n",
    "    \"\"\"Iinsert element e einto set s\"\"\"\n",
    "    s.add(e)"
   ]
  },
  {
   "cell_type": "code",
   "execution_count": 5,
   "metadata": {},
   "outputs": [],
   "source": [
    "def insert_end_list(l, e):\n",
    "    \"\"\"Insert element e into list l at the end of the list.\"\"\"\n",
    "    l.append(e)\n",
    "    \n",
    "def insert_end_dict(d, e):\n",
    "    \"\"\"Insert element e into dict d.\"\"\"\n",
    "    d[e] = e\n",
    "    \n",
    "def insert_end_set(s, e):\n",
    "    \"\"\"Iinsert element e einto set s\"\"\"\n",
    "    s.add(e)"
   ]
  },
  {
   "cell_type": "code",
   "execution_count": 6,
   "metadata": {},
   "outputs": [],
   "source": [
    "def contains_list(l, e):\n",
    "    \"\"\"Determin whether element e is in list l.\"\"\"\n",
    "    return e in l\n",
    "    \n",
    "def contains_dict(d, e):\n",
    "    \"\"\"Determin whether element e is in dict d.\"\"\"\n",
    "    return e in d\n",
    "    \n",
    "def contains_set(s, e):\n",
    "    \"\"\"Determin whether element e is in set s.\"\"\"\n",
    "    return e in s"
   ]
  },
  {
   "cell_type": "code",
   "execution_count": 7,
   "metadata": {},
   "outputs": [],
   "source": [
    "def remove_list(l, e):\n",
    "    \"\"\"Remove element e from list l.\"\"\"\n",
    "    l.remove(e)\n",
    "    \n",
    "def remove_dict(d, e):\n",
    "    \"\"\"Remove element e from dict d.\"\"\"\n",
    "    d.pop(e)\n",
    "    \n",
    "def remove_set(s, e):\n",
    "    \"\"\"Remove element e from set s.\"\"\"\n",
    "    s.discard(e)"
   ]
  },
  {
   "cell_type": "markdown",
   "metadata": {},
   "source": [
    "## (b)\n",
    "\n",
    "The two cells below compute benchmark for the functions you have defined above and display the result. How do the results for the different container compare? What do you think is the reason for that?"
   ]
  },
  {
   "cell_type": "code",
   "execution_count": 8,
   "metadata": {},
   "outputs": [],
   "source": [
    "import random\n",
    "import time\n",
    "import numpy as np\n",
    "\n",
    "\n",
    "def get_execution_time(create_function, function, length, n=10):\n",
    "    timings = np.zeros(n)\n",
    "    elements = random.sample(range(length), n)\n",
    "    object = create_function(length)\n",
    "    for i, element in enumerate(elements):\n",
    "        start = time.process_time()\n",
    "        function(object, element)\n",
    "        end = time.process_time()\n",
    "        timings[i] = end - start\n",
    "    return timings.mean()\n",
    "\n",
    "def calculate_timings(what, lengths):\n",
    "    results = {}\n",
    "    names = [\"Insertion (beginning)\",\n",
    "             \"Insertion (end)\",\n",
    "             \"Membership\",\n",
    "             \"Removal\"]\n",
    "    prefixes = [\"insert_beginning_\",\n",
    "                \"insert_end_\",\n",
    "                \"contains_\",\n",
    "                \"remove_\"]\n",
    "    for length in lengths:\n",
    "        for name, prefix in zip(names, prefixes):\n",
    "            \n",
    "            create_function = globals()[\"create_\" + what]\n",
    "            function = globals()[prefix + what]\n",
    "            result = results.setdefault(name, [])\n",
    "            time = get_execution_time(create_function,\n",
    "                                      function,\n",
    "                                      length)\n",
    "            result.append(time)\n",
    "    return results\n",
    "\n",
    "lengths = [10 ** 3, 10 ** 4, 10 ** 5, 10 ** 6]\n",
    "results_list = calculate_timings(\"list\", lengths)\n",
    "results_dict = calculate_timings(\"dict\", lengths)\n",
    "results_set = calculate_timings(\"set\", lengths)"
   ]
  },
  {
   "cell_type": "code",
   "execution_count": 9,
   "metadata": {},
   "outputs": [
    {
     "data": {
      "image/png": "[encoded data removed]",
      "text/plain": [
       "<Figure size 648x432 with 5 Axes>"
      ]
     },
     "metadata": {
      "needs_background": "light"
     },
     "output_type": "display_data"
    }
   ],
   "source": [
    "%matplotlib inline\n",
    "import matplotlib.pyplot as plt\n",
    "from matplotlib.gridspec import GridSpec\n",
    "\n",
    "grid = GridSpec(3, 2, height_ratios = [1.0, 1.0, 0.1])\n",
    "f = plt.figure(figsize=(9, 6))\n",
    "\n",
    "x = np.arange(4)\n",
    "width = 0.2\n",
    "\n",
    "for i, key in enumerate(results_list):\n",
    "    ax = plt.subplot(grid[i // 2, i % 2])\n",
    "    patches_list = ax.bar(x - width, results_list[key], width=width)\n",
    "    patches_dict = ax.bar(x, results_dict[key], width=width)\n",
    "    patches_set = ax.bar(x + width, results_set[key], width=width)\n",
    "    \n",
    "    ax.set_xticks(x)\n",
    "    xlabels = [f\"$10^{{{int(np.log10(x))}}}$\" for x in lengths]\n",
    "    ax.set_xticklabels(xlabels)\n",
    "    ax.set_yscale(\"log\")\n",
    "    if i > 1: ax.set_xlabel(\"Number of elements\")\n",
    "    if not i % 2: ax.set_ylabel(\"Execution time [s]\")\n",
    "    ax.set_ylim([1e-7, 1e-2])\n",
    "    letter = chr(ord(\"a\") + i)\n",
    "    ax.set_title(f\"({letter}) {key}\", loc=\"left\")\n",
    "    \n",
    "legend_ax = plt.subplot(grid[2, :])\n",
    "legend_ax.set_axis_off()\n",
    "patches = [patches_list[0], patches_dict[0], patches_set[0]]\n",
    "labels = [\"list\", \"dictionary\", \"set\"]\n",
    "legend_ax.legend(handles=patches, labels=labels, ncol=3, loc=\"center\")\n",
    "\n",
    "plt.tight_layout()\n",
    "plt.savefig(\"figures/timings.pdf\")"
   ]
  },
  {
   "cell_type": "markdown",
   "metadata": {},
   "source": [
    "## Exercise 3: How to shoot yourself in the foot\n",
    "\n",
    "Two weeks ago, the following bug report was filed on GitHub describing a bug occurring in code that I wrote:\n",
    "\n",
    "\n",
    "<img src=\"figures/arts_bug.png\" alt=\"arts bug\" width=800>\n",
    "\n",
    "\n",
    "The bug was caused by creating a variable object with the name ``np``. The bug was not very hard to find although it was located in a completely different module, than the error came from. The offending code and corresponding error message is shown below. Can you figure out why this function may cause problems when the ``name`` keyword agument is ``np``?\n",
    "\n",
    "````Python\n",
    "    import pyarts.workspace.variables as variables\n",
    "\n",
    "    def create(self, ws, name=None):\n",
    "        \"\"\"\n",
    "        Calls to <Group>Create WSMs are handled differently. This method simply\n",
    "        determines the group type from the function name and then add a variable of\n",
    "        this type to the workspace ws. A handle of this variable is then added to\n",
    "        as attribute to the arts.workspace.variables module.\n",
    "\n",
    "        Args:\n",
    "            ws(Workspace): Workspace object to add the variable to\n",
    "            name(str):     Name of the variable to add to the workspace\n",
    "        \"\"\"\n",
    "        group = WorkspaceMethod.create_regexp.match(self.name).group(1)\n",
    "        group_id = group_ids[group]\n",
    "        wsv = WorkspaceVariable(ws_id, name, group, \"User defined variable.\", ws)\n",
    "        setattr(variables, name, wsv)\n",
    "        return wsv\n",
    "````\n",
    "\n",
    "````\n",
    "Traceback (most recent call last):\n",
    "  File \"/workspace/variables.py\", line 357, in value\n",
    "    return np.asarray(self)\n",
    "AttributeError: 'WorkspaceVariable' object has no attribute 'asarray'\n",
    "````"
   ]
  },
  {
   "cell_type": "markdown",
   "metadata": {},
   "source": [
    "## Exercise 4: Extracting figures from a LatTex file.\n",
    "\n",
    "The code in the cell below downloads a manuscript of mine as ``.tex`` file and stores it in the ``text`` variables. Use regular expressions to extract the names of all image file included in the manuscript.\n",
    "\n",
    "### Hints:\n",
    "- You can use the ``re.Pattern.finditer`` method to iterate over matches in ``text``. Use ``help(re.Pattern.finditer)`` for more information.\n",
    "- Use ``re.compile(..., re.MULTILINE)`` to enable multi-line mode when compiling your regular\n",
    "  expresison. This allows you to match the beginning of a line using ``^``. This is useful to\n",
    "  avoid matching the two commented figures in the manuscript.\n",
    "- If you arrive at the correct solution you should find the names of 17 image files."
   ]
  },
  {
   "cell_type": "code",
   "execution_count": 10,
   "metadata": {},
   "outputs": [],
   "source": [
    "import urllib\n",
    "url = \"https://raw.githubusercontent.com/simonpf/mcrf/master/article/amt_manuscript_revised_2.tex\"\n",
    "request = urllib.request.Request(url)\n",
    "with urllib.request.urlopen(request) as response:\n",
    "    text = response.read().decode()\n"
   ]
  },
  {
   "cell_type": "code",
   "execution_count": 11,
   "metadata": {},
   "outputs": [
    {
     "name": "stdout",
     "output_type": "stream",
     "text": [
      "Figure 1: ../plots/scene_overview.png\n",
      "Figure 2: ../plots/gem_psds.png\n",
      "Figure 3: ../plots/retrieval_sketch\n",
      "Figure 4: ../plots/particle_properties_d14\n",
      "Figure 5: ../plots/contours\n",
      "Figure 6: ../plots/observations_a\n",
      "Figure 7: ../plots/results_a_LargePlateAggregate\n",
      "Figure 8: ../plots/results_scatter_a\n",
      "Figure 9: ../plots/results_box\n",
      "Figure 10: ../plots/results_nd_a_LargePlateAggregate\n",
      "Figure 11: ../plots/results_nd_scatter_a\n",
      "Figure 12: ../plots/dfs\n",
      "Figure 13: ../plots/misfits\n",
      "Figure 14: ../plots/results_cw_b_LargePlateAggregate\n",
      "Figure 15: ../plots/dfs_ratios\n",
      "Figure 16: ../plots/results_b_LargePlateAggregate\n",
      "Figure 17: ../plots/results_scatter_b\n"
     ]
    }
   ],
   "source": [
    "import re\n",
    "expr = r\"^[^%\\n]*\\\\includegraphics\\[([^\\]]*)\\][^\\{]*\\{([^\\}]*)\\}\"\n",
    "regexp = re.compile(expr, re.MULTILINE)\n",
    "for i, m in enumerate(regexp.finditer(text)):\n",
    "    print(f\"Figure {i + 1}:\", m.group(2))"
   ]
  }
 ],
 "metadata": {
  "kernelspec": {
   "display_name": "Python 3",
   "language": "python",
   "name": "python3"
  },
  "language_info": {
   "codemirror_mode": {
    "name": "ipython",
    "version": 3
   },
   "file_extension": ".py",
   "mimetype": "text/x-python",
   "name": "python",
   "nbconvert_exporter": "python",
   "pygments_lexer": "ipython3",
   "version": "3.7.4"
  }
 },
 "nbformat": 4,
 "nbformat_minor": 4
}
