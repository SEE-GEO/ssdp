{
 "cells": [
  {
   "cell_type": "markdown",
   "metadata": {},
   "source": [
    "# 1. Solving the heat equation on GPU\n",
    "\n",
    "Use ``cupy`` to write a platform-agnostic solver for the heat equation that can run on a GPU.\n",
    "\n",
    "> **Note:** If you don't have an NVIDIA GPU or CUDA installed on your computer, you will need\n",
    "> to run this exercise on Google Colab. to activate the ``GPU`` runtime, click on ``Runtime``\n",
    "> -> ``Change runtime type`` and select ``GPU``.\n",
    "\n",
    "[![Open In Colab](https://colab.research.google.com/assets/colab-badge.svg)](https://colab.research.google.com/github/SEE-MOF/ssdp/blob/main/lectures/13/ssdp_lecture_13_solution.ipynb)\n",
    "\n",
    "## a) Installing ``cupy``\n",
    "\n",
    "- Run ``!nvidia-smi`` to determine which version of CUDA is running on your system. It is\n",
    "  shown in the upper right corner of the output.\n",
    "- Use the command shown in the table below to install the version of ``cupy`` that corresponds to you CUDA version.\n",
    "  \n",
    "\n",
    "\n",
    "<table class=\"docutils align-center\">\n",
    "<colgroup>\n",
    "<col style=\"width: 50%\" />\n",
    "<col style=\"width: 50%\" />\n",
    "</colgroup>\n",
    "<thead>\n",
    "<tr class=\"row-odd\"><th class=\"head\"><p>CUDA</p></th>\n",
    "<th class=\"head\"><p>Command</p></th>\n",
    "</tr>\n",
    "</thead>\n",
    "<tbody>\n",
    "<tr class=\"row-even\"><td><p>v9.0</p></td>\n",
    "<td><p><code class=\"docutils literal notranslate\"><span class=\"pre\">!pip</span> <span class=\"pre\">install</span> <span class=\"pre\">cupy-cuda90</span></code></p></td>\n",
    "</tr>\n",
    "<tr class=\"row-odd\"><td><p>v9.2</p></td>\n",
    "<td><p><code class=\"docutils literal notranslate\"><span class=\"pre\">!pip</span> <span class=\"pre\">install</span> <span class=\"pre\">cupy-cuda92</span></code></p></td>\n",
    "</tr>\n",
    "<tr class=\"row-even\"><td><p>v10.0</p></td>\n",
    "<td><p><code class=\"docutils literal notranslate\"><span class=\"pre\">!pip</span> <span class=\"pre\">install</span> <span class=\"pre\">cupy-cuda100</span></code></p></td>\n",
    "</tr>\n",
    "<tr class=\"row-odd\"><td><p>v10.1</p></td>\n",
    "<td><p><code class=\"docutils literal notranslate\"><span class=\"pre\">!pip</span> <span class=\"pre\">install</span> <span class=\"pre\">cupy-cuda101</span></code></p></td>\n",
    "</tr>\n",
    "<tr class=\"row-even\"><td><p>v10.2</p></td>\n",
    "<td><p><code class=\"docutils literal notranslate\"><span class=\"pre\">!pip</span> <span class=\"pre\">install</span> <span class=\"pre\">cupy-cuda102</span></code></p></td>\n",
    "</tr>\n",
    "<tr class=\"row-odd\"><td><p>v11.0</p></td>\n",
    "<td><p><code class=\"docutils literal notranslate\"><span class=\"pre\">!pip</span> <span class=\"pre\">install</span> <span class=\"pre\">cupy-cuda110</span></code></p></td>\n",
    "</tr>\n",
    "</tbody>\n",
    "</table>"
   ]
  },
  {
   "cell_type": "code",
   "execution_count": null,
   "metadata": {},
   "outputs": [],
   "source": [
    "!nvidia-smi\n",
    "!pip install cupy-cuda101"
   ]
  },
  {
   "cell_type": "markdown",
   "metadata": {},
   "source": [
    "## b)\n",
    "\n",
    "Complete the ``step`` function below so that it performs a step of the heat equation solver. Use again\n",
    "$0.1$ as time step and $\\alpha = 1.0$"
   ]
  },
  {
   "cell_type": "code",
   "execution_count": null,
   "metadata": {},
   "outputs": [],
   "source": [
    "%matplotlib inline\n",
    "\n",
    "import numpy as np\n",
    "import cupy as cp\n",
    "import matplotlib.pyplot as plt"
   ]
  },
  {
   "cell_type": "code",
   "execution_count": null,
   "metadata": {},
   "outputs": [],
   "source": [
    "def initial_state(size):\n",
    "    \"\"\"\n",
    "    Return: numpy.ndarray containing the heat distribution at time t = 0.\n",
    "    \"\"\"\n",
    "    u = np.zeros((size, size))\n",
    "    n = int(0.05 * size)\n",
    "    u[size // 4 : 3 * size // 4 + 1, size // 2 - n : size // 2 + n + 1] = 1.0\n",
    "    u[size // 2 - n : size // 2 + n + 1, size // 4 : 3 * size // 4 + 1] = 1.0\n",
    "    return u\n"
   ]
  },
  {
   "cell_type": "code",
   "execution_count": null,
   "metadata": {},
   "outputs": [],
   "source": [
    "def step(u):\n",
    "    \"\"\"\n",
    "    Perform a solver step of the heat equation.\n",
    "    \n",
    "    Args:\n",
    "        u: n x n numpy.ndarray containing the heat distribution at time t.\n",
    "        \n",
    "    Return:\n",
    "        n x n numpy.ndarray containing the heat distribution at time t + 0.1.\n",
    "    \n",
    "    \"\"\"\n",
    "    l = u[:-2, 1:-1] + u[2:, 1:-1]\n",
    "    l += u[1:-1, :-2] + u[1:-1, 2:]\n",
    "    l -= 4.0 * u[1:-1, 1:-1]\n",
    "\n",
    "    u_next = u.copy()\n",
    "    u_next[1:-1, 1:-1] += 0.1 * l\n",
    "\n",
    "    return u_next"
   ]
  },
  {
   "cell_type": "code",
   "execution_count": null,
   "metadata": {},
   "outputs": [],
   "source": [
    "def solve_heat_equation_cpu(size, n_steps):\n",
    "    u = initial_state(size) \n",
    "    for i in range(n_steps):\n",
    "        u = step(u)\n",
    "    return u"
   ]
  },
  {
   "cell_type": "code",
   "execution_count": null,
   "metadata": {},
   "outputs": [],
   "source": [
    "def solve_heat_equation_gpu(size, n_steps):\n",
    "    u = initial_state(size) \n",
    "    u_gpu = cp.asarray(u)\n",
    "    for i in range(n_steps):\n",
    "        u_gpu = step(u_gpu)\n",
    "    return u_gpu.get()"
   ]
  },
  {
   "cell_type": "code",
   "execution_count": null,
   "metadata": {},
   "outputs": [],
   "source": [
    "%timeit solve_heat_equation_cpu(1024, 1000)"
   ]
  },
  {
   "cell_type": "code",
   "execution_count": null,
   "metadata": {},
   "outputs": [],
   "source": [
    "%timeit solve_heat_equation_gpu(1024, 1000)"
   ]
  },
  {
   "cell_type": "code",
   "execution_count": null,
   "metadata": {},
   "outputs": [],
   "source": [
    "u_cpu = solve_heat_equation_cpu(1024, 1000)\n",
    "u_gpu = solve_heat_equation_gpu(1024, 1000)"
   ]
  },
  {
   "cell_type": "code",
   "execution_count": null,
   "metadata": {},
   "outputs": [],
   "source": [
    "from matplotlib.gridspec import GridSpec\n",
    "from matplotlib.colors import Normalize\n",
    "\n",
    "f = plt.figure(figsize=(9, 4))\n",
    "gs = GridSpec(1, 3, width_ratios=[1.0, 1.0, 0.1])\n",
    "norm = Normalize(1.0, 0.0)\n",
    "\n",
    "ax = plt.subplot(gs[0])\n",
    "img_cpu = ax.imshow(u_cpu)\n",
    "ax.set_title(\"(a) CPU\", loc=\"left\")\n",
    "\n",
    "ax = plt.subplot(gs[1])\n",
    "img = ax.imshow(u_gpu)\n",
    "ax.set_title(\"(b) GPU\", loc=\"left\")\n",
    "\n",
    "ax = plt.subplot(gs[2])\n",
    "plt.colorbar(img, cax=ax, label=\"$u$\")\n",
    "plt.tight_layout()"
   ]
  },
  {
   "cell_type": "markdown",
   "metadata": {},
   "source": [
    "## c.) \n",
    "Redefine the ``initial_state`` function so that it creates an array with floating point type ``np.float32`` instead the default of ``np.float64``. The repeat the runtime comparison between CPU and GPU. "
   ]
  },
  {
   "cell_type": "code",
   "execution_count": null,
   "metadata": {},
   "outputs": [],
   "source": [
    "def initial_state(size):\n",
    "    \"\"\"\n",
    "    Return: numpy.ndarray containing the heat distribution at time t = 0.\n",
    "    \"\"\"\n",
    "    u = np.zeros((size, size), dtype=np.float32)\n",
    "    n = int(0.05 * size)\n",
    "    u[size // 4 : 3 * size // 4 + 1, size // 2 - n : size // 2 + n + 1] = 1.0\n",
    "    u[size // 2 - n : size // 2 + n + 1, size // 4 : 3 * size // 4 + 1] = 1.0\n",
    "    return u"
   ]
  },
  {
   "cell_type": "code",
   "execution_count": null,
   "metadata": {},
   "outputs": [],
   "source": [
    "%timeit solve_heat_equation_cpu(1024, 1000)"
   ]
  },
  {
   "cell_type": "code",
   "execution_count": null,
   "metadata": {},
   "outputs": [],
   "source": [
    "%timeit solve_heat_equation_gpu(1024, 1000)"
   ]
  },
  {
   "cell_type": "markdown",
   "metadata": {},
   "source": [
    "# 2. Solving the heat equation using Fourier transformation\n",
    "\n",
    "## a.)\n",
    "\n",
    "Complete the function below that uses Fourier transform to solve the heat equation. Use ``numpy.fft.fft2`` and\n",
    "``numpy.fft.ifft2`` to perform the Fourier transform an its inverse.\n",
    "\n",
    "> **Note:** Due to the Nyquist-Shannon sampling theorem, the FFT can only be used to determine the coefficients $A_{m, n}$ for frequencies up to $m = n = \\frac{2}{N}$ for an input. After propagating the coefficients for $0 \\leq m, n \\leq \\frac{N}{2}$ forward in time you will therefore need to set the remaining coefficients so that they satisfy $A_{N - i, N -j} = A_{i + 1, j + 1} $ for $0 \\leq i,j < \\frac{N}{2}$. That means you will have to mirror the the array containing the cofficients about elements $\\frac{N}{2}$ of its first and second axes.\n",
    "\n",
    "\n",
    "> **Note:** The numpy function ``fliplr`` and ``flipud`` are useful to implement the mirroring."
   ]
  },
  {
   "cell_type": "code",
   "execution_count": null,
   "metadata": {},
   "outputs": [],
   "source": [
    "def heat_equation_fft(u0, t):\n",
    "    N = u0.shape[0]\n",
    "    A = np.fft.fft2(u0)\n",
    "    \n",
    "    n = np.arange(N // 2)\n",
    "    m, n = np.meshgrid(n, n)\n",
    "    c = np.exp(- 4.0 * np.pi ** 2 * (m**2  + n**2) / N ** 2 * t)\n",
    "    \n",
    "    N2 = N//2\n",
    "    A_t = A.copy()\n",
    "    A_t[:N2, :N2] *= c\n",
    "    A_t[:N2, N2 + 1:] = np.fliplr(A_t[:N2, 1:N2])\n",
    "    A_t[N2 + 1:, :] = np.flipud(A_t[1:N2, :])\n",
    "    \n",
    "    return np.fft.ifft2(A_t).real"
   ]
  },
  {
   "cell_type": "code",
   "execution_count": null,
   "metadata": {},
   "outputs": [],
   "source": [
    "def solve_heat_equation_fft(size, n_steps):\n",
    "    u = initial_state(size) \n",
    "    return heat_equation_fft(u, n_steps * 0.1)"
   ]
  },
  {
   "cell_type": "code",
   "execution_count": null,
   "metadata": {},
   "outputs": [],
   "source": [
    "%timeit u_fft = solve_heat_equation_fft(1024, 1000)"
   ]
  },
  {
   "cell_type": "code",
   "execution_count": null,
   "metadata": {},
   "outputs": [],
   "source": [
    "u_fft = solve_heat_equation_fft(1024, 1000)"
   ]
  },
  {
   "cell_type": "code",
   "execution_count": null,
   "metadata": {},
   "outputs": [],
   "source": [
    "from matplotlib.gridspec import GridSpec\n",
    "from matplotlib.colors import Normalize\n",
    "\n",
    "gs = GridSpec(2, 6, height_ratios=[1.0, 0.05])\n",
    "norm = Normalize(1.0, 0.0)\n",
    "\n",
    "f = plt.figure(figsize=(12, 5))\n",
    "ax = plt.subplot(gs[0, :2])\n",
    "img_cpu = ax.imshow(u_cpu)\n",
    "ax.set_title(\"(a) Finite difference\", loc=\"left\")\n",
    "\n",
    "ax = plt.subplot(gs[0, 2:4])\n",
    "img = ax.imshow(u_fft.real)\n",
    "ax.set_title(\"(b) FFT\", loc=\"left\")\n",
    "\n",
    "ax = plt.subplot(gs[0, 4:])\n",
    "d = u_cpu - u_fft\n",
    "d_max = np.max(np.abs(d))\n",
    "error_norm = Normalize(-d_max, d_max)\n",
    "img_error = ax.imshow(d, cmap=\"coolwarm\", norm=error_norm)\n",
    "ax.set_title(\"(c) Difference\", loc=\"left\")\n",
    "\n",
    "ax = plt.subplot(gs[1, :4])\n",
    "plt.colorbar(img_cpu, cax=ax, label=\"$u_T(x, y)$\", orientation=\"horizontal\")\n",
    "plt.tight_layout()\n",
    "\n",
    "ax = plt.subplot(gs[1, 4:])\n",
    "plt.colorbar(img_error, cax=ax, label=\"$\\Delta u_T(x, y)$\", orientation=\"horizontal\")\n",
    "plt.tight_layout()"
   ]
  },
  {
   "cell_type": "markdown",
   "metadata": {},
   "source": [
    "## b.)\n",
    "\n",
    "Write a platform agnostic version of the ``heat_equation_fft`` function which can run on a GPU.\n",
    "Compare the runtime of the GPU version with the CPU version."
   ]
  },
  {
   "cell_type": "code",
   "execution_count": null,
   "metadata": {},
   "outputs": [],
   "source": [
    "def heat_equation_fft(u0, t):\n",
    "    xp = cp.get_array_module(u0)\n",
    "    N = u0.shape[0]\n",
    "    A = xp.fft.fft2(u0)\n",
    "    \n",
    "    n = xp.arange(N // 2)\n",
    "    m, n = xp.meshgrid(n, n)\n",
    "    c = xp.exp(- 4.0 * xp.pi ** 2 * (m**2  + n**2) / N ** 2 * t)\n",
    "    N2 = N//2\n",
    "    A_t = xp.copy(A)\n",
    "    A_t[:N2, :N2] *= c\n",
    "    A_t[:N2, N2 + 1:] = xp.fliplr(A_t[:N2, 1:N2])\n",
    "    A_t[N2 + 1:, :] = xp.flipud(A_t[1:N2, :])\n",
    "    \n",
    "    return xp.fft.ifft2(A_t).real"
   ]
  },
  {
   "cell_type": "code",
   "execution_count": null,
   "metadata": {},
   "outputs": [],
   "source": [
    "def solve_heat_equation_fft_gpu(size, n_steps):\n",
    "    u = cp.asarray(initial_state(size))\n",
    "    return heat_equation_fft(u, n_steps * 0.1)"
   ]
  },
  {
   "cell_type": "code",
   "execution_count": null,
   "metadata": {},
   "outputs": [],
   "source": [
    "%timeit solve_heat_equation_fft_gpu(1024, 1000)"
   ]
  },
  {
   "cell_type": "markdown",
   "metadata": {},
   "source": [
    "# 3. Getting started with IPython Parallel\n",
    "\n",
    "## a.)\n",
    "\n",
    "Install ``ipyparallel`` and start controller and with 4 engines. When both are started correctly the code below should execute without errors."
   ]
  },
  {
   "cell_type": "code",
   "execution_count": null,
   "metadata": {},
   "outputs": [],
   "source": [
    "import ipyparallel as ipp\n",
    "client = ipp.Client()"
   ]
  },
  {
   "cell_type": "markdown",
   "metadata": {},
   "source": [
    "## b.)\n",
    "\n",
    "Run the hello world example from the lecture."
   ]
  },
  {
   "cell_type": "markdown",
   "metadata": {},
   "source": [
    "# 4. Different views\n",
    "\n",
    "Run the code below and look at the results that it produces. What does the resulting plots display and what causes the different results obtained with different views?"
   ]
  },
  {
   "cell_type": "code",
   "execution_count": null,
   "metadata": {},
   "outputs": [],
   "source": [
    "direct_view = client.direct_view()\n",
    "direct_view.scatter(\"engine_id\", client.ids)\n",
    "\n",
    "def return_id(dummy_argument):\n",
    "    import time\n",
    "    time.sleep(engine_id[0] * 0.01)\n",
    "    return engine_id[0]"
   ]
  },
  {
   "cell_type": "code",
   "execution_count": null,
   "metadata": {},
   "outputs": [],
   "source": [
    "direct_view = client.direct_view()\n",
    "load_balanced_view = client.load_balanced_view()\n",
    "\n",
    "result = direct_view.map(return_id, range(1024))\n",
    "ids_direct = result.get()\n",
    "print(f\"Direct view finished after {result.wall_time} s.\")"
   ]
  },
  {
   "cell_type": "code",
   "execution_count": null,
   "metadata": {},
   "outputs": [],
   "source": [
    "result = load_balanced_view.map(return_id, range(1024))\n",
    "ids_balanaced = result.get()\n",
    "print(f\"Load-balanced view finished after {result.wall_time} s.\")"
   ]
  },
  {
   "cell_type": "code",
   "execution_count": null,
   "metadata": {},
   "outputs": [],
   "source": [
    "from matplotlib.gridspec import GridSpec\n",
    "from matplotlib.colors import Normalize\n",
    "\n",
    "plt.figure(figsize=(9, 4))\n",
    "bins = np.arange(0, 5) - 0.5\n",
    "gs = GridSpec(1, 2)\n",
    "x = np.array([0, 1, 2, 3])\n",
    "\n",
    "ax = plt.subplot(gs[0, 0])\n",
    "y, _ = np.histogram(ids_direct, bins=bins)\n",
    "ax.bar(x, y)\n",
    "ax.set_title(\"(a) Direct view\", loc=\"left\")\n",
    "ax.set_xlabel(\"Engine ID\")\n",
    "ax.set_ylabel(\"Occurences\")\n",
    "\n",
    "ax = plt.subplot(gs[0, 1])\n",
    "y, _ = np.histogram(ids_balanced, bins=bins)\n",
    "ax.bar(x, y)\n",
    "ax.set_title(\"(a) Load-balanced view\", loc=\"left\")\n",
    "ax.set_xlabel(\"Engine ID\")\n",
    "ax.set_ylabel(\"Occurences\")\n",
    "\n",
    "plt.tight_layout()"
   ]
  },
  {
   "cell_type": "markdown",
   "metadata": {},
   "source": [
    "# 5. Calculate $\\pi$\n",
    "\n",
    "The value of $\\pi$ can be calculated with the following procedure:\n",
    "\n",
    "1. Sample a random point in a unit cube by calculating pair of random numbers\n",
    "   $(x, y)$ with $-0.5 \\leq x, y \\leq 0.5$\n",
    "2. Calculate the distance of the random point to the origin.\n",
    "3. Repeat steps 1. and 2. n times and calculate the fraction of times the distance\n",
    "    is less than 0.5.\n",
    "4. Multiply the fraction by 4, which will yield an approximate value of $\\pi$.\n",
    "\n",
    "\n",
    "Use ``ipyparallel`` to calculate the value of $\\pi$ using Monte Carlo simulation."
   ]
  }
 ],
 "metadata": {
  "kernelspec": {
   "display_name": "Python 3",
   "language": "python",
   "name": "python3"
  },
  "language_info": {
   "codemirror_mode": {
    "name": "ipython",
    "version": 3
   },
   "file_extension": ".py",
   "mimetype": "text/x-python",
   "name": "python",
   "nbconvert_exporter": "python",
   "pygments_lexer": "ipython3",
   "version": "3.7.4"
  }
 },
 "nbformat": 4,
 "nbformat_minor": 4
}
