{
 "cells": [
  {
   "cell_type": "markdown",
   "metadata": {},
   "source": [
    "# Heat equation on GPU\n",
    "\n",
    "Use ``cupy`` to write a platform-agnostic solver for the heat equation that can run on a GPU.\n",
    "\n",
    "> **Note:** If you don't have an NVIDIA GPU or CUDA installed on your computer, you will need\n",
    "> to run this exercise on Google Colab. to activate the ``GPU`` runtime, click on ``Runtime``\n",
    "> -> ``Change runtime type`` and select ``GPU``.\n",
    "\n",
    "## a) Installing ``cupy``\n",
    "\n",
    "- Run ``!nvidia-smi`` to determine which version of CUDA is running on your system. It is\n",
    "  shown in the upper right corner of the output.\n",
    "- Use the command shown in the table below to install the version of ``cupy`` that corresponds to you CUDA version.\n",
    "  \n",
    "\n",
    "\n",
    "<table class=\"docutils align-center\">\n",
    "<colgroup>\n",
    "<col style=\"width: 50%\" />\n",
    "<col style=\"width: 50%\" />\n",
    "</colgroup>\n",
    "<thead>\n",
    "<tr class=\"row-odd\"><th class=\"head\"><p>CUDA</p></th>\n",
    "<th class=\"head\"><p>Command</p></th>\n",
    "</tr>\n",
    "</thead>\n",
    "<tbody>\n",
    "<tr class=\"row-even\"><td><p>v9.0</p></td>\n",
    "<td><p><code class=\"docutils literal notranslate\"><span class=\"pre\">!pip</span> <span class=\"pre\">install</span> <span class=\"pre\">cupy-cuda90</span></code></p></td>\n",
    "</tr>\n",
    "<tr class=\"row-odd\"><td><p>v9.2</p></td>\n",
    "<td><p><code class=\"docutils literal notranslate\"><span class=\"pre\">!pip</span> <span class=\"pre\">install</span> <span class=\"pre\">cupy-cuda92</span></code></p></td>\n",
    "</tr>\n",
    "<tr class=\"row-even\"><td><p>v10.0</p></td>\n",
    "<td><p><code class=\"docutils literal notranslate\"><span class=\"pre\">!pip</span> <span class=\"pre\">install</span> <span class=\"pre\">cupy-cuda100</span></code></p></td>\n",
    "</tr>\n",
    "<tr class=\"row-odd\"><td><p>v10.1</p></td>\n",
    "<td><p><code class=\"docutils literal notranslate\"><span class=\"pre\">!pip</span> <span class=\"pre\">install</span> <span class=\"pre\">cupy-cuda101</span></code></p></td>\n",
    "</tr>\n",
    "<tr class=\"row-even\"><td><p>v10.2</p></td>\n",
    "<td><p><code class=\"docutils literal notranslate\"><span class=\"pre\">!pip</span> <span class=\"pre\">install</span> <span class=\"pre\">cupy-cuda102</span></code></p></td>\n",
    "</tr>\n",
    "<tr class=\"row-odd\"><td><p>v11.0</p></td>\n",
    "<td><p><code class=\"docutils literal notranslate\"><span class=\"pre\">!pip</span> <span class=\"pre\">install</span> <span class=\"pre\">cupy-cuda110</span></code></p></td>\n",
    "</tr>\n",
    "</tbody>\n",
    "</table>\n",
    "\n",
    "\n",
    "## b)\n",
    "\n",
    "Complete the ``step`` function below so that it performs a step of the heat equation solver. Use again\n",
    "$0.1$ as time step and $\\alpha = 1.0$"
   ]
  },
  {
   "cell_type": "code",
   "execution_count": 2,
   "metadata": {},
   "outputs": [],
   "source": [
    "%matplotlib inline\n",
    "\n",
    "import numpy as np\n",
    "import matplotlib.pyplot as plt"
   ]
  },
  {
   "cell_type": "code",
   "execution_count": 3,
   "metadata": {},
   "outputs": [],
   "source": [
    "def initial_state(size):\n",
    "    \"\"\"\n",
    "    Return: numpy.ndarray containing the heat distribution at time t = 0.\n",
    "    \"\"\"\n",
    "    u = np.zeros((size, size))\n",
    "    n = int(0.05 * size)\n",
    "    u[size // 4 : 3 * size // 4 + 1, size // 2 - n : size // 2 + n + 1] = 1.0\n",
    "    u[size // 2 - n : size // 2 + n + 1, size // 4 : 3 * size // 4 + 1] = 1.0\n",
    "    return u\n"
   ]
  },
  {
   "cell_type": "code",
   "execution_count": 4,
   "metadata": {},
   "outputs": [],
   "source": [
    "def step(u):\n",
    "    \"\"\"\n",
    "    Perform a solver step of the heat equation.\n",
    "    \n",
    "    Args:\n",
    "        u: n x n numpy.ndarray containing the heat distribution at time t.\n",
    "        \n",
    "    Return:\n",
    "        n x n numpy.ndarray containing the heat distribution at time t + 0.1.\n",
    "    \n",
    "    \"\"\"\n",
    "    l = u[:-2, 1:-1] + u[2:, 1:-1]\n",
    "    l += u[1:-1, :-2] + u[1:-1, 2:]\n",
    "    l -= 4.0 * u[1:-1, 1:-1]\n",
    "\n",
    "    u_next = u.copy()\n",
    "    u_next[1:-1, 1:-1] += 0.1 * l\n",
    "\n",
    "    return u_next"
   ]
  },
  {
   "cell_type": "code",
   "execution_count": 5,
   "metadata": {},
   "outputs": [],
   "source": [
    "def solve_heat_equation_cpu(size, n_steps):\n",
    "    u = initial_state(size) \n",
    "    for i in range(n_steps):\n",
    "        u = step_numpy(u)\n",
    "    return u"
   ]
  },
  {
   "cell_type": "code",
   "execution_count": null,
   "metadata": {},
   "outputs": [],
   "source": [
    "def solve_heat_equation_gpu(size, n_steps):\n",
    "    u = initial_state(size) \n",
    "    u_gpu = cp.asarray(u)\n",
    "    for i in range(n_steps):\n",
    "        u_gpu = step_numpy(u_gpu)\n",
    "    return u.get()"
   ]
  }
 ],
 "metadata": {
  "kernelspec": {
   "display_name": "Python 3",
   "language": "python",
   "name": "python3"
  },
  "language_info": {
   "codemirror_mode": {
    "name": "ipython",
    "version": 3
   },
   "file_extension": ".py",
   "mimetype": "text/x-python",
   "name": "python",
   "nbconvert_exporter": "python",
   "pygments_lexer": "ipython3",
   "version": "3.7.4"
  }
 },
 "nbformat": 4,
 "nbformat_minor": 4
}
